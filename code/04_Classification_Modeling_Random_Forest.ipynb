{
 "cells": [
  {
   "cell_type": "markdown",
   "id": "946b253c-8fb5-4703-8eee-56795cbe700d",
   "metadata": {},
   "source": [
    "# Examining Influential Factors On Poverty Status\n",
    "\n",
    "## Random Forest Modeling"
   ]
  },
  {
   "cell_type": "markdown",
   "id": "a02e0dde-8852-4fc3-a3a1-153a24ff5124",
   "metadata": {},
   "source": [
    "#### Notebook overview"
   ]
  },
  {
   "cell_type": "markdown",
   "id": "50d3a3b6-663a-42aa-9f98-45d3a78893a4",
   "metadata": {},
   "source": [
    "In this notebook, two models were used: a Random Forest model and a Random Forest model with resampling. The data was prepared by removing unnecessary information and splitting it into training and test sets. The Random Forest model was trained on the training data, and its performance was evaluated by making predictions on the test data. Metrics such as accuracy and F1 score were utilized to assess the model's accuracy, and a confusion matrix was created to visualize the predictions.\n",
    "\n",
    "The Random Forest model was chosen due to its ability to handle complex data with multiple factors, handle outliers effectively, and discover non-linear patterns. It also provides insights into the important factors that contribute to predictions. To address imbalanced data, where certain categories have more data than others, the Random Forest model with resampling was employed. Additional examples from the minority categories were added to ensure sufficient data representation. Optimal model settings were determined, and the model's performance was evaluated using accuracy and F1 score. Another confusion matrix was generated to evaluate the resampled model's performance.\n",
    "\n",
    "By comparing the results of both models, insights were gained into the impact of resampling when dealing with imbalanced data. The analysis of important factors in the Random Forest model provided a better understanding of the factors that significantly influence predictions. Overall, the notebook presented a systematic approach to classification modeling, addressing imbalanced data, and evaluating model performance."
   ]
  },
  {
   "cell_type": "code",
   "execution_count": 1,
   "id": "b42057a4-dd2a-4065-a376-0fcc737fc19f",
   "metadata": {},
   "outputs": [],
   "source": [
    "#Imports\n",
    "import pandas as pd\n",
    "import numpy as np\n",
    "import matplotlib.pyplot as plt\n",
    "from imblearn.pipeline import Pipeline\n",
    "from imblearn.over_sampling import RandomOverSampler\n",
    "from sklearn.metrics import accuracy_score, balanced_accuracy_score, f1_score, ConfusionMatrixDisplay, confusion_matrix\n",
    "from sklearn.ensemble import RandomForestClassifier\n",
    "from sklearn.model_selection import train_test_split, GridSearchCV"
   ]
  },
  {
   "cell_type": "code",
   "execution_count": 2,
   "id": "6b74ec6f-61c6-4c1a-b409-7bf9dbfab74f",
   "metadata": {},
   "outputs": [],
   "source": [
    "#read from github repository\n",
    "df = pd.read_csv(\"https://media.githubusercontent.com/media/Rpierre98/DSI-320-Group-Project/main/data/clean_data/cleaned_data.csv\")"
   ]
  },
  {
   "cell_type": "code",
   "execution_count": 3,
   "id": "ae204654-686a-4a6f-a9b4-41c2c9cfbeae",
   "metadata": {},
   "outputs": [
    {
     "data": {
      "text/html": [
       "<div>\n",
       "<style scoped>\n",
       "    .dataframe tbody tr th:only-of-type {\n",
       "        vertical-align: middle;\n",
       "    }\n",
       "\n",
       "    .dataframe tbody tr th {\n",
       "        vertical-align: top;\n",
       "    }\n",
       "\n",
       "    .dataframe thead th {\n",
       "        text-align: right;\n",
       "    }\n",
       "</style>\n",
       "<table border=\"1\" class=\"dataframe\">\n",
       "  <thead>\n",
       "    <tr style=\"text-align: right;\">\n",
       "      <th></th>\n",
       "      <th>AGE</th>\n",
       "      <th>STATE</th>\n",
       "      <th>FAM_RELATIONSHIP</th>\n",
       "      <th>OUT_POCKET_NONPREM</th>\n",
       "      <th>OUT_POCKET_OC</th>\n",
       "      <th>OCCUPATION</th>\n",
       "      <th>EDU_LVL</th>\n",
       "      <th>MARITAL</th>\n",
       "      <th>SEX</th>\n",
       "      <th>HOUSEHOLD_SUMMARY</th>\n",
       "      <th>...</th>\n",
       "      <th>CASH_ASSIST</th>\n",
       "      <th>WIC</th>\n",
       "      <th>CHLD_SUP</th>\n",
       "      <th>ADJ_GROSS_INC</th>\n",
       "      <th>TAX_FILE_STAT</th>\n",
       "      <th>HEALTH_INS</th>\n",
       "      <th>PUB_INS</th>\n",
       "      <th>PRIV_INS</th>\n",
       "      <th>POV_STS</th>\n",
       "      <th>POV_LVL</th>\n",
       "    </tr>\n",
       "  </thead>\n",
       "  <tbody>\n",
       "    <tr>\n",
       "      <th>0</th>\n",
       "      <td>42</td>\n",
       "      <td>nonmover</td>\n",
       "      <td>not fam</td>\n",
       "      <td>0</td>\n",
       "      <td>0</td>\n",
       "      <td>Professional</td>\n",
       "      <td>associate degree</td>\n",
       "      <td>single</td>\n",
       "      <td>male</td>\n",
       "      <td>householder</td>\n",
       "      <td>...</td>\n",
       "      <td>under 15</td>\n",
       "      <td>not eligible</td>\n",
       "      <td>0</td>\n",
       "      <td>44220</td>\n",
       "      <td>single</td>\n",
       "      <td>yes</td>\n",
       "      <td>no coverage</td>\n",
       "      <td>covered all year</td>\n",
       "      <td>0</td>\n",
       "      <td>150+ percent of poverty level</td>\n",
       "    </tr>\n",
       "    <tr>\n",
       "      <th>1</th>\n",
       "      <td>62</td>\n",
       "      <td>nonmover</td>\n",
       "      <td>ref person</td>\n",
       "      <td>320</td>\n",
       "      <td>48</td>\n",
       "      <td>Business/Finance</td>\n",
       "      <td>high school graduate</td>\n",
       "      <td>married/civilian spouse</td>\n",
       "      <td>male</td>\n",
       "      <td>householder</td>\n",
       "      <td>...</td>\n",
       "      <td>under 15</td>\n",
       "      <td>not eligible</td>\n",
       "      <td>0</td>\n",
       "      <td>80349</td>\n",
       "      <td>joint under 65 y/o</td>\n",
       "      <td>yes</td>\n",
       "      <td>no coverage</td>\n",
       "      <td>covered all year</td>\n",
       "      <td>0</td>\n",
       "      <td>150+ percent of poverty level</td>\n",
       "    </tr>\n",
       "    <tr>\n",
       "      <th>2</th>\n",
       "      <td>64</td>\n",
       "      <td>nonmover</td>\n",
       "      <td>spouse</td>\n",
       "      <td>0</td>\n",
       "      <td>100</td>\n",
       "      <td>Professional</td>\n",
       "      <td>bachelor's degree</td>\n",
       "      <td>married/civilian spouse</td>\n",
       "      <td>female</td>\n",
       "      <td>spouse of HH</td>\n",
       "      <td>...</td>\n",
       "      <td>under 15</td>\n",
       "      <td>not eligible</td>\n",
       "      <td>0</td>\n",
       "      <td>0</td>\n",
       "      <td>joint under 65 y/o</td>\n",
       "      <td>yes</td>\n",
       "      <td>no coverage</td>\n",
       "      <td>covered all year</td>\n",
       "      <td>0</td>\n",
       "      <td>150+ percent of poverty level</td>\n",
       "    </tr>\n",
       "    <tr>\n",
       "      <th>3</th>\n",
       "      <td>26</td>\n",
       "      <td>nonmover</td>\n",
       "      <td>ref person</td>\n",
       "      <td>0</td>\n",
       "      <td>100</td>\n",
       "      <td>sales</td>\n",
       "      <td>college no degree</td>\n",
       "      <td>married/civilian spouse</td>\n",
       "      <td>male</td>\n",
       "      <td>householder</td>\n",
       "      <td>...</td>\n",
       "      <td>under 15</td>\n",
       "      <td>not eligible</td>\n",
       "      <td>0</td>\n",
       "      <td>60001</td>\n",
       "      <td>joint under 65 y/o</td>\n",
       "      <td>yes</td>\n",
       "      <td>no coverage</td>\n",
       "      <td>covered all year</td>\n",
       "      <td>0</td>\n",
       "      <td>150+ percent of poverty level</td>\n",
       "    </tr>\n",
       "    <tr>\n",
       "      <th>4</th>\n",
       "      <td>24</td>\n",
       "      <td>nonmover</td>\n",
       "      <td>spouse</td>\n",
       "      <td>300</td>\n",
       "      <td>100</td>\n",
       "      <td>Professional</td>\n",
       "      <td>college no degree</td>\n",
       "      <td>married/civilian spouse</td>\n",
       "      <td>female</td>\n",
       "      <td>spouse of HH</td>\n",
       "      <td>...</td>\n",
       "      <td>under 15</td>\n",
       "      <td>no</td>\n",
       "      <td>0</td>\n",
       "      <td>0</td>\n",
       "      <td>joint under 65 y/o</td>\n",
       "      <td>yes</td>\n",
       "      <td>no coverage</td>\n",
       "      <td>covered all year</td>\n",
       "      <td>0</td>\n",
       "      <td>150+ percent of poverty level</td>\n",
       "    </tr>\n",
       "  </tbody>\n",
       "</table>\n",
       "<p>5 rows × 52 columns</p>\n",
       "</div>"
      ],
      "text/plain": [
       "   AGE     STATE FAM_RELATIONSHIP  OUT_POCKET_NONPREM  OUT_POCKET_OC  \\\n",
       "0   42  nonmover          not fam                   0              0   \n",
       "1   62  nonmover       ref person                 320             48   \n",
       "2   64  nonmover           spouse                   0            100   \n",
       "3   26  nonmover       ref person                   0            100   \n",
       "4   24  nonmover           spouse                 300            100   \n",
       "\n",
       "         OCCUPATION               EDU_LVL                  MARITAL     SEX  \\\n",
       "0      Professional      associate degree                   single    male   \n",
       "1  Business/Finance  high school graduate  married/civilian spouse    male   \n",
       "2      Professional     bachelor's degree  married/civilian spouse  female   \n",
       "3             sales     college no degree  married/civilian spouse    male   \n",
       "4      Professional     college no degree  married/civilian spouse  female   \n",
       "\n",
       "  HOUSEHOLD_SUMMARY  ... CASH_ASSIST           WIC CHLD_SUP ADJ_GROSS_INC  \\\n",
       "0       householder  ...    under 15  not eligible        0         44220   \n",
       "1       householder  ...    under 15  not eligible        0         80349   \n",
       "2      spouse of HH  ...    under 15  not eligible        0             0   \n",
       "3       householder  ...    under 15  not eligible        0         60001   \n",
       "4      spouse of HH  ...    under 15            no        0             0   \n",
       "\n",
       "        TAX_FILE_STAT HEALTH_INS      PUB_INS          PRIV_INS POV_STS  \\\n",
       "0              single        yes  no coverage  covered all year       0   \n",
       "1  joint under 65 y/o        yes  no coverage  covered all year       0   \n",
       "2  joint under 65 y/o        yes  no coverage  covered all year       0   \n",
       "3  joint under 65 y/o        yes  no coverage  covered all year       0   \n",
       "4  joint under 65 y/o        yes  no coverage  covered all year       0   \n",
       "\n",
       "                         POV_LVL  \n",
       "0  150+ percent of poverty level  \n",
       "1  150+ percent of poverty level  \n",
       "2  150+ percent of poverty level  \n",
       "3  150+ percent of poverty level  \n",
       "4  150+ percent of poverty level  \n",
       "\n",
       "[5 rows x 52 columns]"
      ]
     },
     "execution_count": 3,
     "metadata": {},
     "output_type": "execute_result"
    }
   ],
   "source": [
    "df.head()"
   ]
  },
  {
   "cell_type": "markdown",
   "id": "32e01fc5-c4d8-43fb-b859-99468b9c6e9d",
   "metadata": {},
   "source": [
    "## Preprocessing"
   ]
  },
  {
   "cell_type": "markdown",
   "id": "4d0e094b-d608-4d6a-9076-6d2ca7774fad",
   "metadata": {},
   "source": [
    "#### Baseline Accuracy"
   ]
  },
  {
   "cell_type": "code",
   "execution_count": 4,
   "id": "abb28217-f037-4879-a975-626bd0660300",
   "metadata": {},
   "outputs": [
    {
     "data": {
      "text/plain": [
       "0    0.927009\n",
       "1    0.072991\n",
       "Name: POV_STS, dtype: float64"
      ]
     },
     "execution_count": 4,
     "metadata": {},
     "output_type": "execute_result"
    }
   ],
   "source": [
    "# Count the occurrences of each class in the original dataset\n",
    "class_counts = df['POV_STS'].value_counts(normalize=True)\n",
    "class_counts"
   ]
  },
  {
   "cell_type": "markdown",
   "id": "191ba3c5-f8ae-42bd-b290-13138be9c8c8",
   "metadata": {},
   "source": [
    "#### Imbalanced dataset indicating that we need to stratify y so our model performs accurately"
   ]
  },
  {
   "cell_type": "code",
   "execution_count": 5,
   "id": "20c3efbb-8683-4580-a697-c6e54b691065",
   "metadata": {},
   "outputs": [
    {
     "data": {
      "text/plain": [
       "['STATE',\n",
       " 'FAM_RELATIONSHIP',\n",
       " 'OCCUPATION',\n",
       " 'EDU_LVL',\n",
       " 'MARITAL',\n",
       " 'SEX',\n",
       " 'HOUSEHOLD_SUMMARY',\n",
       " 'MILITARY',\n",
       " 'CERT_REQ',\n",
       " 'TROUB_BATHE',\n",
       " 'TROUB_HEAR',\n",
       " 'TROUB_SEE',\n",
       " 'TROUB_ALONE',\n",
       " 'TROUB_WALK',\n",
       " 'TROUB_CONC',\n",
       " 'HISPANIC',\n",
       " 'IMMIGR_YR',\n",
       " 'CITIZENSHIP',\n",
       " 'DISABLED',\n",
       " 'RACE',\n",
       " 'WORK_INDUSTRY',\n",
       " 'LABOR_STATUS',\n",
       " 'WRK_STATUS',\n",
       " 'WRK_CLASS_LONGEST',\n",
       " 'LONGEST_IND',\n",
       " 'NO_WRK_RSN',\n",
       " 'FT_PT',\n",
       " 'EARN_SOURCE',\n",
       " 'ERN_OTR',\n",
       " 'WORK_DIS',\n",
       " 'DIS_INC',\n",
       " 'OTH_DIS_INC',\n",
       " 'FIN_ASSIST',\n",
       " 'OTH_INC',\n",
       " 'CASH_ASSIST',\n",
       " 'WIC',\n",
       " 'TAX_FILE_STAT',\n",
       " 'HEALTH_INS',\n",
       " 'PUB_INS',\n",
       " 'PRIV_INS',\n",
       " 'POV_LVL']"
      ]
     },
     "execution_count": 5,
     "metadata": {},
     "output_type": "execute_result"
    }
   ],
   "source": [
    "# Identify categorical columns\n",
    "categorical_columns = df.select_dtypes(include=['object']).columns.tolist()\n",
    "categorical_columns\n"
   ]
  },
  {
   "cell_type": "code",
   "execution_count": 6,
   "id": "34b8ad85-98f4-437c-8a8d-1fef4c04c5ed",
   "metadata": {},
   "outputs": [],
   "source": [
    "#Remove columns that aren't used in modeling process\n",
    "columns_to_remove = ['HOUSEHOLD_SUMMARY', 'MILITARY', 'TROUB_BATHE', 'TROUB_HEAR', 'TROUB_SEE', 'TROUB_ALONE', 'TROUB_WALK', 'TROUB_CONC', 'STATE', 'CERT_REQ', 'DIS_INC', 'OTH_DIS_INC', 'OTH_INC']\n",
    "cleaned_df = df.drop(columns=columns_to_remove)"
   ]
  },
  {
   "cell_type": "code",
   "execution_count": 7,
   "id": "7c4031c2-d9ea-4f9b-ae58-9dec28436954",
   "metadata": {},
   "outputs": [
    {
     "data": {
      "text/plain": [
       "['FAM_RELATIONSHIP',\n",
       " 'OCCUPATION',\n",
       " 'EDU_LVL',\n",
       " 'MARITAL',\n",
       " 'SEX',\n",
       " 'HISPANIC',\n",
       " 'IMMIGR_YR',\n",
       " 'CITIZENSHIP',\n",
       " 'DISABLED',\n",
       " 'RACE',\n",
       " 'WORK_INDUSTRY',\n",
       " 'LABOR_STATUS',\n",
       " 'WRK_STATUS',\n",
       " 'WRK_CLASS_LONGEST',\n",
       " 'LONGEST_IND',\n",
       " 'NO_WRK_RSN',\n",
       " 'FT_PT',\n",
       " 'EARN_SOURCE',\n",
       " 'ERN_OTR',\n",
       " 'WORK_DIS',\n",
       " 'FIN_ASSIST',\n",
       " 'CASH_ASSIST',\n",
       " 'WIC',\n",
       " 'TAX_FILE_STAT',\n",
       " 'HEALTH_INS',\n",
       " 'PUB_INS',\n",
       " 'PRIV_INS',\n",
       " 'POV_LVL']"
      ]
     },
     "execution_count": 7,
     "metadata": {},
     "output_type": "execute_result"
    }
   ],
   "source": [
    "# Identify remaining categorical columns\n",
    "remaining_categorical_columns = cleaned_df.select_dtypes(include=['object']).columns.tolist()\n",
    "remaining_categorical_columns"
   ]
  },
  {
   "cell_type": "code",
   "execution_count": 8,
   "id": "807b51a7-71ac-406a-8721-d1f52fc5345e",
   "metadata": {},
   "outputs": [],
   "source": [
    "# Clean remaining categorical columns\n",
    "cleaned_df[remaining_categorical_columns] = cleaned_df[remaining_categorical_columns].fillna('Unknown')\n",
    "\n",
    "# Perform one-hot encoding\n",
    "cleaned_df_encoded = pd.get_dummies(cleaned_df, columns=remaining_categorical_columns)\n",
    "\n",
    "# Split the encoded df into X and y \n",
    "X = cleaned_df_encoded.drop(columns=['POV_STS'])\n",
    "y = cleaned_df_encoded['POV_STS']\n"
   ]
  },
  {
   "cell_type": "markdown",
   "id": "78045a6a-82d7-4216-a42c-d03a17b5b106",
   "metadata": {},
   "source": [
    "## Random Forest Model"
   ]
  },
  {
   "cell_type": "code",
   "execution_count": 9,
   "id": "dff94984-ee5f-414c-80bd-bf6259b9b3ba",
   "metadata": {},
   "outputs": [],
   "source": [
    "# Split the data \n",
    "X_train, X_test, y_train, y_test = train_test_split(X, y, test_size=0.2, random_state=42,stratify=y)"
   ]
  },
  {
   "cell_type": "code",
   "execution_count": 10,
   "id": "fff73bd5-0ccd-4f63-a0f6-7178923cd5e8",
   "metadata": {},
   "outputs": [],
   "source": [
    "# Initialize the Random Forest classifier\n",
    "rf = RandomForestClassifier()"
   ]
  },
  {
   "cell_type": "code",
   "execution_count": 11,
   "id": "0d2575b6-1563-4fb2-adbe-662827d6e7c6",
   "metadata": {},
   "outputs": [
    {
     "data": {
      "text/html": [
       "<style>#sk-container-id-1 {color: black;background-color: white;}#sk-container-id-1 pre{padding: 0;}#sk-container-id-1 div.sk-toggleable {background-color: white;}#sk-container-id-1 label.sk-toggleable__label {cursor: pointer;display: block;width: 100%;margin-bottom: 0;padding: 0.3em;box-sizing: border-box;text-align: center;}#sk-container-id-1 label.sk-toggleable__label-arrow:before {content: \"▸\";float: left;margin-right: 0.25em;color: #696969;}#sk-container-id-1 label.sk-toggleable__label-arrow:hover:before {color: black;}#sk-container-id-1 div.sk-estimator:hover label.sk-toggleable__label-arrow:before {color: black;}#sk-container-id-1 div.sk-toggleable__content {max-height: 0;max-width: 0;overflow: hidden;text-align: left;background-color: #f0f8ff;}#sk-container-id-1 div.sk-toggleable__content pre {margin: 0.2em;color: black;border-radius: 0.25em;background-color: #f0f8ff;}#sk-container-id-1 input.sk-toggleable__control:checked~div.sk-toggleable__content {max-height: 200px;max-width: 100%;overflow: auto;}#sk-container-id-1 input.sk-toggleable__control:checked~label.sk-toggleable__label-arrow:before {content: \"▾\";}#sk-container-id-1 div.sk-estimator input.sk-toggleable__control:checked~label.sk-toggleable__label {background-color: #d4ebff;}#sk-container-id-1 div.sk-label input.sk-toggleable__control:checked~label.sk-toggleable__label {background-color: #d4ebff;}#sk-container-id-1 input.sk-hidden--visually {border: 0;clip: rect(1px 1px 1px 1px);clip: rect(1px, 1px, 1px, 1px);height: 1px;margin: -1px;overflow: hidden;padding: 0;position: absolute;width: 1px;}#sk-container-id-1 div.sk-estimator {font-family: monospace;background-color: #f0f8ff;border: 1px dotted black;border-radius: 0.25em;box-sizing: border-box;margin-bottom: 0.5em;}#sk-container-id-1 div.sk-estimator:hover {background-color: #d4ebff;}#sk-container-id-1 div.sk-parallel-item::after {content: \"\";width: 100%;border-bottom: 1px solid gray;flex-grow: 1;}#sk-container-id-1 div.sk-label:hover label.sk-toggleable__label {background-color: #d4ebff;}#sk-container-id-1 div.sk-serial::before {content: \"\";position: absolute;border-left: 1px solid gray;box-sizing: border-box;top: 0;bottom: 0;left: 50%;z-index: 0;}#sk-container-id-1 div.sk-serial {display: flex;flex-direction: column;align-items: center;background-color: white;padding-right: 0.2em;padding-left: 0.2em;position: relative;}#sk-container-id-1 div.sk-item {position: relative;z-index: 1;}#sk-container-id-1 div.sk-parallel {display: flex;align-items: stretch;justify-content: center;background-color: white;position: relative;}#sk-container-id-1 div.sk-item::before, #sk-container-id-1 div.sk-parallel-item::before {content: \"\";position: absolute;border-left: 1px solid gray;box-sizing: border-box;top: 0;bottom: 0;left: 50%;z-index: -1;}#sk-container-id-1 div.sk-parallel-item {display: flex;flex-direction: column;z-index: 1;position: relative;background-color: white;}#sk-container-id-1 div.sk-parallel-item:first-child::after {align-self: flex-end;width: 50%;}#sk-container-id-1 div.sk-parallel-item:last-child::after {align-self: flex-start;width: 50%;}#sk-container-id-1 div.sk-parallel-item:only-child::after {width: 0;}#sk-container-id-1 div.sk-dashed-wrapped {border: 1px dashed gray;margin: 0 0.4em 0.5em 0.4em;box-sizing: border-box;padding-bottom: 0.4em;background-color: white;}#sk-container-id-1 div.sk-label label {font-family: monospace;font-weight: bold;display: inline-block;line-height: 1.2em;}#sk-container-id-1 div.sk-label-container {text-align: center;}#sk-container-id-1 div.sk-container {/* jupyter's `normalize.less` sets `[hidden] { display: none; }` but bootstrap.min.css set `[hidden] { display: none !important; }` so we also need the `!important` here to be able to override the default hidden behavior on the sphinx rendered scikit-learn.org. See: https://github.com/scikit-learn/scikit-learn/issues/21755 */display: inline-block !important;position: relative;}#sk-container-id-1 div.sk-text-repr-fallback {display: none;}</style><div id=\"sk-container-id-1\" class=\"sk-top-container\"><div class=\"sk-text-repr-fallback\"><pre>RandomForestClassifier()</pre><b>In a Jupyter environment, please rerun this cell to show the HTML representation or trust the notebook. <br />On GitHub, the HTML representation is unable to render, please try loading this page with nbviewer.org.</b></div><div class=\"sk-container\" hidden><div class=\"sk-item\"><div class=\"sk-estimator sk-toggleable\"><input class=\"sk-toggleable__control sk-hidden--visually\" id=\"sk-estimator-id-1\" type=\"checkbox\" checked><label for=\"sk-estimator-id-1\" class=\"sk-toggleable__label sk-toggleable__label-arrow\">RandomForestClassifier</label><div class=\"sk-toggleable__content\"><pre>RandomForestClassifier()</pre></div></div></div></div></div>"
      ],
      "text/plain": [
       "RandomForestClassifier()"
      ]
     },
     "execution_count": 11,
     "metadata": {},
     "output_type": "execute_result"
    }
   ],
   "source": [
    "# Train the Random Forest model\n",
    "rf.fit(X_train, y_train)"
   ]
  },
  {
   "cell_type": "code",
   "execution_count": 12,
   "id": "0ab5dc7e-be97-43df-b7f7-ef6314e389b4",
   "metadata": {},
   "outputs": [
    {
     "data": {
      "text/plain": [
       "array([0, 0, 0, ..., 0, 0, 0])"
      ]
     },
     "execution_count": 12,
     "metadata": {},
     "output_type": "execute_result"
    }
   ],
   "source": [
    "# Make predictions on the validation data\n",
    "y_pred = rf.predict(X_test)\n",
    "y_pred"
   ]
  },
  {
   "cell_type": "code",
   "execution_count": 13,
   "id": "bffd9e1a-1100-4fc8-b85a-9611f37f9818",
   "metadata": {},
   "outputs": [
    {
     "name": "stdout",
     "output_type": "stream",
     "text": [
      "Accuracy: 0.949520411169673\n",
      "Balanced Accuracy: 0.7651817404842137\n",
      "F1 Score: 0.6137274549098197\n"
     ]
    }
   ],
   "source": [
    "accuracy = accuracy_score(y_test, y_pred)\n",
    "print(f\"Accuracy: {accuracy}\")\n",
    "\n",
    "balanced_acc = balanced_accuracy_score(y_test, y_pred)\n",
    "print(f\"Balanced Accuracy: {balanced_acc}\")\n",
    "\n",
    "f1 = f1_score(y_test, y_pred)\n",
    "print(f\"F1 Score: {f1}\")"
   ]
  },
  {
   "cell_type": "markdown",
   "id": "7d0d9ce6-bcd5-46f2-bf4c-ae6ad5dad9fc",
   "metadata": {},
   "source": [
    "**The accuracy score tells us that the model was correct about 95% of the time. The balanced accuracy score shows that the model did well in predicting different categories, even if some had more data than others. It tried to be fair and accurate for all categories. The F1 score, which measures overall accuracy, tells us that the model balanced being precise and capturing positive cases**. "
   ]
  },
  {
   "cell_type": "code",
   "execution_count": 14,
   "id": "dc453bf8-f7e9-416e-989b-e9b65017ed08",
   "metadata": {},
   "outputs": [
    {
     "data": {
      "image/png": "[encoded data removed]",
      "text/plain": [
       "<Figure size 640x480 with 2 Axes>"
      ]
     },
     "metadata": {},
     "output_type": "display_data"
    }
   ],
   "source": [
    "cm = confusion_matrix(y_test, y_pred)\n",
    "\n",
    "\n",
    "class_labels = np.unique(np.concatenate((y_test, y_pred)))\n",
    "\n",
    "disp = ConfusionMatrixDisplay(confusion_matrix=cm, display_labels=class_labels)\n",
    "disp.plot()\n",
    "plt.title('Random Forest Confusion Matrix')\n",
    "plt.tight_layout()\n",
    "plt.savefig('../images/classification_models/rf_confusion_matrix.png')\n",
    "plt.show()"
   ]
  },
  {
   "cell_type": "markdown",
   "id": "5d1069c2-c4f8-4982-a4f7-8b3274d31174",
   "metadata": {
    "tags": []
   },
   "source": [
    "## Random Forest W / Resampling "
   ]
  },
  {
   "cell_type": "code",
   "execution_count": 15,
   "id": "2f32d4f1-2573-4a5e-85bb-14a91d6c0aa3",
   "metadata": {},
   "outputs": [],
   "source": [
    "X_train, X_test, y_train, y_test = train_test_split(X, y, test_size=0.2, random_state=42,stratify=y)"
   ]
  },
  {
   "cell_type": "code",
   "execution_count": 16,
   "id": "c6049288-06bb-4bc3-b209-822e004db335",
   "metadata": {},
   "outputs": [],
   "source": [
    "# Create a pipeline with RandomOverSampler and RandomForestClassifier\n",
    "pipe = Pipeline([\n",
    "    ('oversampler', RandomOverSampler(random_state=42)),\n",
    "    ('classifier', RandomForestClassifier())\n",
    "])"
   ]
  },
  {
   "cell_type": "code",
   "execution_count": 17,
   "id": "3d3107fe-ab23-43be-817d-0c32df09702e",
   "metadata": {},
   "outputs": [],
   "source": [
    "# Define the parameter grid for GridSearchCV\n",
    "param_grid = {\n",
    "    'oversampler__sampling_strategy': [0.25, 0.5, 0.75, 1]\n",
    "}\n"
   ]
  },
  {
   "cell_type": "code",
   "execution_count": 18,
   "id": "9a482317-df35-4d0f-baa3-2f38cec45301",
   "metadata": {},
   "outputs": [],
   "source": [
    "# Initialize GridSearch\n",
    "gs = GridSearchCV(pipe, param_grid, n_jobs=-1, scoring='f1')"
   ]
  },
  {
   "cell_type": "code",
   "execution_count": 19,
   "id": "b7f7677d-5670-4255-93c2-25a26ca37127",
   "metadata": {},
   "outputs": [
    {
     "data": {
      "text/html": [
       "<style>#sk-container-id-2 {color: black;background-color: white;}#sk-container-id-2 pre{padding: 0;}#sk-container-id-2 div.sk-toggleable {background-color: white;}#sk-container-id-2 label.sk-toggleable__label {cursor: pointer;display: block;width: 100%;margin-bottom: 0;padding: 0.3em;box-sizing: border-box;text-align: center;}#sk-container-id-2 label.sk-toggleable__label-arrow:before {content: \"▸\";float: left;margin-right: 0.25em;color: #696969;}#sk-container-id-2 label.sk-toggleable__label-arrow:hover:before {color: black;}#sk-container-id-2 div.sk-estimator:hover label.sk-toggleable__label-arrow:before {color: black;}#sk-container-id-2 div.sk-toggleable__content {max-height: 0;max-width: 0;overflow: hidden;text-align: left;background-color: #f0f8ff;}#sk-container-id-2 div.sk-toggleable__content pre {margin: 0.2em;color: black;border-radius: 0.25em;background-color: #f0f8ff;}#sk-container-id-2 input.sk-toggleable__control:checked~div.sk-toggleable__content {max-height: 200px;max-width: 100%;overflow: auto;}#sk-container-id-2 input.sk-toggleable__control:checked~label.sk-toggleable__label-arrow:before {content: \"▾\";}#sk-container-id-2 div.sk-estimator input.sk-toggleable__control:checked~label.sk-toggleable__label {background-color: #d4ebff;}#sk-container-id-2 div.sk-label input.sk-toggleable__control:checked~label.sk-toggleable__label {background-color: #d4ebff;}#sk-container-id-2 input.sk-hidden--visually {border: 0;clip: rect(1px 1px 1px 1px);clip: rect(1px, 1px, 1px, 1px);height: 1px;margin: -1px;overflow: hidden;padding: 0;position: absolute;width: 1px;}#sk-container-id-2 div.sk-estimator {font-family: monospace;background-color: #f0f8ff;border: 1px dotted black;border-radius: 0.25em;box-sizing: border-box;margin-bottom: 0.5em;}#sk-container-id-2 div.sk-estimator:hover {background-color: #d4ebff;}#sk-container-id-2 div.sk-parallel-item::after {content: \"\";width: 100%;border-bottom: 1px solid gray;flex-grow: 1;}#sk-container-id-2 div.sk-label:hover label.sk-toggleable__label {background-color: #d4ebff;}#sk-container-id-2 div.sk-serial::before {content: \"\";position: absolute;border-left: 1px solid gray;box-sizing: border-box;top: 0;bottom: 0;left: 50%;z-index: 0;}#sk-container-id-2 div.sk-serial {display: flex;flex-direction: column;align-items: center;background-color: white;padding-right: 0.2em;padding-left: 0.2em;position: relative;}#sk-container-id-2 div.sk-item {position: relative;z-index: 1;}#sk-container-id-2 div.sk-parallel {display: flex;align-items: stretch;justify-content: center;background-color: white;position: relative;}#sk-container-id-2 div.sk-item::before, #sk-container-id-2 div.sk-parallel-item::before {content: \"\";position: absolute;border-left: 1px solid gray;box-sizing: border-box;top: 0;bottom: 0;left: 50%;z-index: -1;}#sk-container-id-2 div.sk-parallel-item {display: flex;flex-direction: column;z-index: 1;position: relative;background-color: white;}#sk-container-id-2 div.sk-parallel-item:first-child::after {align-self: flex-end;width: 50%;}#sk-container-id-2 div.sk-parallel-item:last-child::after {align-self: flex-start;width: 50%;}#sk-container-id-2 div.sk-parallel-item:only-child::after {width: 0;}#sk-container-id-2 div.sk-dashed-wrapped {border: 1px dashed gray;margin: 0 0.4em 0.5em 0.4em;box-sizing: border-box;padding-bottom: 0.4em;background-color: white;}#sk-container-id-2 div.sk-label label {font-family: monospace;font-weight: bold;display: inline-block;line-height: 1.2em;}#sk-container-id-2 div.sk-label-container {text-align: center;}#sk-container-id-2 div.sk-container {/* jupyter's `normalize.less` sets `[hidden] { display: none; }` but bootstrap.min.css set `[hidden] { display: none !important; }` so we also need the `!important` here to be able to override the default hidden behavior on the sphinx rendered scikit-learn.org. See: https://github.com/scikit-learn/scikit-learn/issues/21755 */display: inline-block !important;position: relative;}#sk-container-id-2 div.sk-text-repr-fallback {display: none;}</style><div id=\"sk-container-id-2\" class=\"sk-top-container\"><div class=\"sk-text-repr-fallback\"><pre>GridSearchCV(estimator=Pipeline(steps=[(&#x27;oversampler&#x27;,\n",
       "                                        RandomOverSampler(random_state=42)),\n",
       "                                       (&#x27;classifier&#x27;,\n",
       "                                        RandomForestClassifier())]),\n",
       "             n_jobs=-1,\n",
       "             param_grid={&#x27;oversampler__sampling_strategy&#x27;: [0.25, 0.5, 0.75,\n",
       "                                                            1]},\n",
       "             scoring=&#x27;f1&#x27;)</pre><b>In a Jupyter environment, please rerun this cell to show the HTML representation or trust the notebook. <br />On GitHub, the HTML representation is unable to render, please try loading this page with nbviewer.org.</b></div><div class=\"sk-container\" hidden><div class=\"sk-item sk-dashed-wrapped\"><div class=\"sk-label-container\"><div class=\"sk-label sk-toggleable\"><input class=\"sk-toggleable__control sk-hidden--visually\" id=\"sk-estimator-id-2\" type=\"checkbox\" ><label for=\"sk-estimator-id-2\" class=\"sk-toggleable__label sk-toggleable__label-arrow\">GridSearchCV</label><div class=\"sk-toggleable__content\"><pre>GridSearchCV(estimator=Pipeline(steps=[(&#x27;oversampler&#x27;,\n",
       "                                        RandomOverSampler(random_state=42)),\n",
       "                                       (&#x27;classifier&#x27;,\n",
       "                                        RandomForestClassifier())]),\n",
       "             n_jobs=-1,\n",
       "             param_grid={&#x27;oversampler__sampling_strategy&#x27;: [0.25, 0.5, 0.75,\n",
       "                                                            1]},\n",
       "             scoring=&#x27;f1&#x27;)</pre></div></div></div><div class=\"sk-parallel\"><div class=\"sk-parallel-item\"><div class=\"sk-item\"><div class=\"sk-label-container\"><div class=\"sk-label sk-toggleable\"><input class=\"sk-toggleable__control sk-hidden--visually\" id=\"sk-estimator-id-3\" type=\"checkbox\" ><label for=\"sk-estimator-id-3\" class=\"sk-toggleable__label sk-toggleable__label-arrow\">estimator: Pipeline</label><div class=\"sk-toggleable__content\"><pre>Pipeline(steps=[(&#x27;oversampler&#x27;, RandomOverSampler(random_state=42)),\n",
       "                (&#x27;classifier&#x27;, RandomForestClassifier())])</pre></div></div></div><div class=\"sk-serial\"><div class=\"sk-item\"><div class=\"sk-serial\"><div class=\"sk-item\"><div class=\"sk-estimator sk-toggleable\"><input class=\"sk-toggleable__control sk-hidden--visually\" id=\"sk-estimator-id-4\" type=\"checkbox\" ><label for=\"sk-estimator-id-4\" class=\"sk-toggleable__label sk-toggleable__label-arrow\">RandomOverSampler</label><div class=\"sk-toggleable__content\"><pre>RandomOverSampler(random_state=42)</pre></div></div></div><div class=\"sk-item\"><div class=\"sk-estimator sk-toggleable\"><input class=\"sk-toggleable__control sk-hidden--visually\" id=\"sk-estimator-id-5\" type=\"checkbox\" ><label for=\"sk-estimator-id-5\" class=\"sk-toggleable__label sk-toggleable__label-arrow\">RandomForestClassifier</label><div class=\"sk-toggleable__content\"><pre>RandomForestClassifier()</pre></div></div></div></div></div></div></div></div></div></div></div></div>"
      ],
      "text/plain": [
       "GridSearchCV(estimator=Pipeline(steps=[('oversampler',\n",
       "                                        RandomOverSampler(random_state=42)),\n",
       "                                       ('classifier',\n",
       "                                        RandomForestClassifier())]),\n",
       "             n_jobs=-1,\n",
       "             param_grid={'oversampler__sampling_strategy': [0.25, 0.5, 0.75,\n",
       "                                                            1]},\n",
       "             scoring='f1')"
      ]
     },
     "execution_count": 19,
     "metadata": {},
     "output_type": "execute_result"
    }
   ],
   "source": [
    "# Fit the pipeline on the training data\n",
    "gs.fit(X_train, y_train)"
   ]
  },
  {
   "cell_type": "code",
   "execution_count": 20,
   "id": "1a7a92d6-394f-4fa5-8227-e344c34e7f12",
   "metadata": {},
   "outputs": [
    {
     "data": {
      "text/html": [
       "<style>#sk-container-id-3 {color: black;background-color: white;}#sk-container-id-3 pre{padding: 0;}#sk-container-id-3 div.sk-toggleable {background-color: white;}#sk-container-id-3 label.sk-toggleable__label {cursor: pointer;display: block;width: 100%;margin-bottom: 0;padding: 0.3em;box-sizing: border-box;text-align: center;}#sk-container-id-3 label.sk-toggleable__label-arrow:before {content: \"▸\";float: left;margin-right: 0.25em;color: #696969;}#sk-container-id-3 label.sk-toggleable__label-arrow:hover:before {color: black;}#sk-container-id-3 div.sk-estimator:hover label.sk-toggleable__label-arrow:before {color: black;}#sk-container-id-3 div.sk-toggleable__content {max-height: 0;max-width: 0;overflow: hidden;text-align: left;background-color: #f0f8ff;}#sk-container-id-3 div.sk-toggleable__content pre {margin: 0.2em;color: black;border-radius: 0.25em;background-color: #f0f8ff;}#sk-container-id-3 input.sk-toggleable__control:checked~div.sk-toggleable__content {max-height: 200px;max-width: 100%;overflow: auto;}#sk-container-id-3 input.sk-toggleable__control:checked~label.sk-toggleable__label-arrow:before {content: \"▾\";}#sk-container-id-3 div.sk-estimator input.sk-toggleable__control:checked~label.sk-toggleable__label {background-color: #d4ebff;}#sk-container-id-3 div.sk-label input.sk-toggleable__control:checked~label.sk-toggleable__label {background-color: #d4ebff;}#sk-container-id-3 input.sk-hidden--visually {border: 0;clip: rect(1px 1px 1px 1px);clip: rect(1px, 1px, 1px, 1px);height: 1px;margin: -1px;overflow: hidden;padding: 0;position: absolute;width: 1px;}#sk-container-id-3 div.sk-estimator {font-family: monospace;background-color: #f0f8ff;border: 1px dotted black;border-radius: 0.25em;box-sizing: border-box;margin-bottom: 0.5em;}#sk-container-id-3 div.sk-estimator:hover {background-color: #d4ebff;}#sk-container-id-3 div.sk-parallel-item::after {content: \"\";width: 100%;border-bottom: 1px solid gray;flex-grow: 1;}#sk-container-id-3 div.sk-label:hover label.sk-toggleable__label {background-color: #d4ebff;}#sk-container-id-3 div.sk-serial::before {content: \"\";position: absolute;border-left: 1px solid gray;box-sizing: border-box;top: 0;bottom: 0;left: 50%;z-index: 0;}#sk-container-id-3 div.sk-serial {display: flex;flex-direction: column;align-items: center;background-color: white;padding-right: 0.2em;padding-left: 0.2em;position: relative;}#sk-container-id-3 div.sk-item {position: relative;z-index: 1;}#sk-container-id-3 div.sk-parallel {display: flex;align-items: stretch;justify-content: center;background-color: white;position: relative;}#sk-container-id-3 div.sk-item::before, #sk-container-id-3 div.sk-parallel-item::before {content: \"\";position: absolute;border-left: 1px solid gray;box-sizing: border-box;top: 0;bottom: 0;left: 50%;z-index: -1;}#sk-container-id-3 div.sk-parallel-item {display: flex;flex-direction: column;z-index: 1;position: relative;background-color: white;}#sk-container-id-3 div.sk-parallel-item:first-child::after {align-self: flex-end;width: 50%;}#sk-container-id-3 div.sk-parallel-item:last-child::after {align-self: flex-start;width: 50%;}#sk-container-id-3 div.sk-parallel-item:only-child::after {width: 0;}#sk-container-id-3 div.sk-dashed-wrapped {border: 1px dashed gray;margin: 0 0.4em 0.5em 0.4em;box-sizing: border-box;padding-bottom: 0.4em;background-color: white;}#sk-container-id-3 div.sk-label label {font-family: monospace;font-weight: bold;display: inline-block;line-height: 1.2em;}#sk-container-id-3 div.sk-label-container {text-align: center;}#sk-container-id-3 div.sk-container {/* jupyter's `normalize.less` sets `[hidden] { display: none; }` but bootstrap.min.css set `[hidden] { display: none !important; }` so we also need the `!important` here to be able to override the default hidden behavior on the sphinx rendered scikit-learn.org. See: https://github.com/scikit-learn/scikit-learn/issues/21755 */display: inline-block !important;position: relative;}#sk-container-id-3 div.sk-text-repr-fallback {display: none;}</style><div id=\"sk-container-id-3\" class=\"sk-top-container\"><div class=\"sk-text-repr-fallback\"><pre>Pipeline(steps=[(&#x27;oversampler&#x27;,\n",
       "                 RandomOverSampler(random_state=42, sampling_strategy=0.5)),\n",
       "                (&#x27;classifier&#x27;, RandomForestClassifier())])</pre><b>In a Jupyter environment, please rerun this cell to show the HTML representation or trust the notebook. <br />On GitHub, the HTML representation is unable to render, please try loading this page with nbviewer.org.</b></div><div class=\"sk-container\" hidden><div class=\"sk-item sk-dashed-wrapped\"><div class=\"sk-label-container\"><div class=\"sk-label sk-toggleable\"><input class=\"sk-toggleable__control sk-hidden--visually\" id=\"sk-estimator-id-6\" type=\"checkbox\" ><label for=\"sk-estimator-id-6\" class=\"sk-toggleable__label sk-toggleable__label-arrow\">Pipeline</label><div class=\"sk-toggleable__content\"><pre>Pipeline(steps=[(&#x27;oversampler&#x27;,\n",
       "                 RandomOverSampler(random_state=42, sampling_strategy=0.5)),\n",
       "                (&#x27;classifier&#x27;, RandomForestClassifier())])</pre></div></div></div><div class=\"sk-serial\"><div class=\"sk-item\"><div class=\"sk-estimator sk-toggleable\"><input class=\"sk-toggleable__control sk-hidden--visually\" id=\"sk-estimator-id-7\" type=\"checkbox\" ><label for=\"sk-estimator-id-7\" class=\"sk-toggleable__label sk-toggleable__label-arrow\">RandomOverSampler</label><div class=\"sk-toggleable__content\"><pre>RandomOverSampler(random_state=42, sampling_strategy=0.5)</pre></div></div></div><div class=\"sk-item\"><div class=\"sk-estimator sk-toggleable\"><input class=\"sk-toggleable__control sk-hidden--visually\" id=\"sk-estimator-id-8\" type=\"checkbox\" ><label for=\"sk-estimator-id-8\" class=\"sk-toggleable__label sk-toggleable__label-arrow\">RandomForestClassifier</label><div class=\"sk-toggleable__content\"><pre>RandomForestClassifier()</pre></div></div></div></div></div></div></div>"
      ],
      "text/plain": [
       "Pipeline(steps=[('oversampler',\n",
       "                 RandomOverSampler(random_state=42, sampling_strategy=0.5)),\n",
       "                ('classifier', RandomForestClassifier())])"
      ]
     },
     "execution_count": 20,
     "metadata": {},
     "output_type": "execute_result"
    }
   ],
   "source": [
    "best_estimator = gs.best_estimator_\n",
    "best_estimator"
   ]
  },
  {
   "cell_type": "code",
   "execution_count": 21,
   "id": "fa9400cf-edcb-4141-8783-f0f05f9cb56f",
   "metadata": {},
   "outputs": [
    {
     "data": {
      "text/plain": [
       "array([0, 0, 0, ..., 0, 0, 0])"
      ]
     },
     "execution_count": 21,
     "metadata": {},
     "output_type": "execute_result"
    }
   ],
   "source": [
    "y_pred = best_estimator.predict(X_test)\n",
    "y_pred"
   ]
  },
  {
   "cell_type": "code",
   "execution_count": 22,
   "id": "2c180c63-2bae-44e3-8951-5d2a1b362ce3",
   "metadata": {},
   "outputs": [
    {
     "name": "stdout",
     "output_type": "stream",
     "text": [
      "Accuracy: 0.9437260614790323\n",
      "Balanced Accuracy: 0.8215451159842976\n",
      "F1 Score: 0.6377239199157008\n"
     ]
    }
   ],
   "source": [
    "accuracy = accuracy_score(y_test, y_pred)\n",
    "print(f\"Accuracy: {accuracy}\")\n",
    "\n",
    "balanced_accuracy = balanced_accuracy_score(y_test, y_pred)\n",
    "print(f\"Balanced Accuracy: {balanced_accuracy}\")\n",
    "\n",
    "f1 = f1_score(y_test, y_pred)\n",
    "print(f\"F1 Score: {f1}\")\n"
   ]
  },
  {
   "cell_type": "markdown",
   "id": "5e77254f-0f64-48f5-9fc6-9e75c9f494df",
   "metadata": {},
   "source": [
    "**The Random Forest model with resampling in the notebook performed well by balancing the imbalanced data. It achieved a high accuracy of about 94% and successfully predicted both the minority and majority categories with a balanced accuracy score of approximately 82%. The model also maintained a good balance between being precise and capturing positive cases, as indicated by an F1 score of around 0.63**."
   ]
  },
  {
   "cell_type": "code",
   "execution_count": 23,
   "id": "c7299344-b886-48e4-ab5e-8eee142cdfa7",
   "metadata": {},
   "outputs": [
    {
     "data": {
      "image/png": "[encoded data removed]",
      "text/plain": [
       "<Figure size 640x480 with 2 Axes>"
      ]
     },
     "metadata": {},
     "output_type": "display_data"
    }
   ],
   "source": [
    "cm = confusion_matrix(y_test, y_pred)\n",
    "\n",
    "class_labels = np.unique(np.concatenate((y_test, y_pred)))\n",
    "\n",
    "disp = ConfusionMatrixDisplay(confusion_matrix=cm, display_labels=np.unique(y_test))\n",
    "disp.plot()\n",
    "plt.title('Random Forest w/ Resampling Confusion Matrix')\n",
    "plt.tight_layout()\n",
    "plt.savefig('../images/classification_models/rf_confusion_matrix_w_resample.png')\n",
    "plt.show()"
   ]
  },
  {
   "cell_type": "markdown",
   "id": "da9a1f9a-48af-483e-820b-cc3fad751afe",
   "metadata": {},
   "source": [
    "The confusion matrix demonstrated improvement in the True Negative values, representing the accurate classification of the Positive class. However, there is room for improvement in reducing both the False positives and False negatives."
   ]
  },
  {
   "cell_type": "markdown",
   "id": "f57c2dd8-4f74-4e70-beb3-2b90e69f7159",
   "metadata": {
    "tags": []
   },
   "source": [
    "## Feature Importances"
   ]
  },
  {
   "cell_type": "code",
   "execution_count": 24,
   "id": "83bbd258-bd96-4c7e-ba9f-ebd52ee9b240",
   "metadata": {},
   "outputs": [
    {
     "data": {
      "text/html": [
       "<div>\n",
       "<style scoped>\n",
       "    .dataframe tbody tr th:only-of-type {\n",
       "        vertical-align: middle;\n",
       "    }\n",
       "\n",
       "    .dataframe tbody tr th {\n",
       "        vertical-align: top;\n",
       "    }\n",
       "\n",
       "    .dataframe thead th {\n",
       "        text-align: right;\n",
       "    }\n",
       "</style>\n",
       "<table border=\"1\" class=\"dataframe\">\n",
       "  <thead>\n",
       "    <tr style=\"text-align: right;\">\n",
       "      <th></th>\n",
       "      <th>Feature</th>\n",
       "      <th>Importance</th>\n",
       "    </tr>\n",
       "  </thead>\n",
       "  <tbody>\n",
       "    <tr>\n",
       "      <th>0</th>\n",
       "      <td>AGE</td>\n",
       "      <td>5.072352e-02</td>\n",
       "    </tr>\n",
       "    <tr>\n",
       "      <th>9</th>\n",
       "      <td>ADJ_GROSS_INC</td>\n",
       "      <td>3.907838e-02</td>\n",
       "    </tr>\n",
       "    <tr>\n",
       "      <th>2</th>\n",
       "      <td>OUT_POCKET_OC</td>\n",
       "      <td>3.886254e-02</td>\n",
       "    </tr>\n",
       "    <tr>\n",
       "      <th>1</th>\n",
       "      <td>OUT_POCKET_NONPREM</td>\n",
       "      <td>3.509495e-02</td>\n",
       "    </tr>\n",
       "    <tr>\n",
       "      <th>4</th>\n",
       "      <td>GROSS_PAY</td>\n",
       "      <td>3.337467e-02</td>\n",
       "    </tr>\n",
       "    <tr>\n",
       "      <th>...</th>\n",
       "      <td>...</td>\n",
       "      <td>...</td>\n",
       "    </tr>\n",
       "    <tr>\n",
       "      <th>21</th>\n",
       "      <td>OCCUPATION_military</td>\n",
       "      <td>2.712247e-06</td>\n",
       "    </tr>\n",
       "    <tr>\n",
       "      <th>88</th>\n",
       "      <td>RACE_White-Black-AI-Asian</td>\n",
       "      <td>1.936740e-06</td>\n",
       "    </tr>\n",
       "    <tr>\n",
       "      <th>75</th>\n",
       "      <td>RACE_Black-AI-Asian</td>\n",
       "      <td>1.430334e-06</td>\n",
       "    </tr>\n",
       "    <tr>\n",
       "      <th>78</th>\n",
       "      <td>RACE_Other 3 race comb.</td>\n",
       "      <td>6.606924e-08</td>\n",
       "    </tr>\n",
       "    <tr>\n",
       "      <th>83</th>\n",
       "      <td>RACE_White-AI-Asian-HP</td>\n",
       "      <td>2.855860e-08</td>\n",
       "    </tr>\n",
       "  </tbody>\n",
       "</table>\n",
       "<p>211 rows × 2 columns</p>\n",
       "</div>"
      ],
      "text/plain": [
       "                      Feature    Importance\n",
       "0                         AGE  5.072352e-02\n",
       "9               ADJ_GROSS_INC  3.907838e-02\n",
       "2               OUT_POCKET_OC  3.886254e-02\n",
       "1          OUT_POCKET_NONPREM  3.509495e-02\n",
       "4                   GROSS_PAY  3.337467e-02\n",
       "..                        ...           ...\n",
       "21        OCCUPATION_military  2.712247e-06\n",
       "88  RACE_White-Black-AI-Asian  1.936740e-06\n",
       "75        RACE_Black-AI-Asian  1.430334e-06\n",
       "78    RACE_Other 3 race comb.  6.606924e-08\n",
       "83     RACE_White-AI-Asian-HP  2.855860e-08\n",
       "\n",
       "[211 rows x 2 columns]"
      ]
     },
     "execution_count": 24,
     "metadata": {},
     "output_type": "execute_result"
    }
   ],
   "source": [
    "importances = best_estimator.named_steps['classifier'].feature_importances_\n",
    "feature_names = X.columns\n",
    "\n",
    "# Create a DataFrame to display the feature importances\n",
    "feature_importance_df = pd.DataFrame({'Feature': feature_names, 'Importance': importances})\n",
    "\n",
    "# Exclude the \"POV_LVL\" column\n",
    "feature_importance_df = feature_importance_df[~feature_importance_df['Feature'].str.startswith('POV_LVL')]\n",
    "\n",
    "# Sort the DataFrame by importance in descending order\n",
    "feature_importance_df = feature_importance_df.sort_values(by='Importance', ascending=False)\n",
    "\n",
    "# Print the feature importances\n",
    "feature_importance_df\n"
   ]
  },
  {
   "cell_type": "code",
   "execution_count": 25,
   "id": "2126dda1-b00f-4826-b2f4-b050e485567c",
   "metadata": {},
   "outputs": [
    {
     "data": {
      "image/png": "[encoded data removed]",
      "text/plain": [
       "<Figure size 1000x600 with 1 Axes>"
      ]
     },
     "metadata": {},
     "output_type": "display_data"
    }
   ],
   "source": [
    "# Plot the top 10 features\n",
    "plt.figure(figsize=(10, 6))\n",
    "plt.barh(feature_importance_df['Feature'].head(10)[::-1], feature_importance_df['Importance'].head(10)[::-1])\n",
    "plt.xlabel('Importance')\n",
    "plt.ylabel('Feature')\n",
    "plt.title('Top 10 Features for Random Forest Model Based on Importance')\n",
    "plt.tight_layout()\n",
    "plt.savefig('../images/classification_models/rf_top_10_features.png')\n",
    "plt.show()"
   ]
  },
  {
   "cell_type": "markdown",
   "id": "230158ec-88b9-4239-a030-e2024e7a3a64",
   "metadata": {},
   "source": [
    "## Conclusion"
   ]
  },
  {
   "cell_type": "markdown",
   "id": "225cf7f3-69ca-4f6d-81a0-91711179e3e6",
   "metadata": {},
   "source": [
    "**The analysis of the best performing model revealed that age was the most influential feature in predicting poverty. This finding aligns with our understanding that younger individuals who may not have established financial stability are more susceptible to poverty. Furthermore, older individuals facing increased financial burdens due to healthcare and other factors also face a higher risk of poverty. Adjusted Gross Income and Out-of-Pocket Outpatient Care were identified as the next significant features contributing to the model's predictive power. These findings emphasize the importance of considering age and financial factors, such as income and healthcare expenses, when addressing poverty-related issues.**"
   ]
  },
  {
   "cell_type": "code",
   "execution_count": null,
   "id": "dca68e39-be31-4629-af03-d8db2b7fd11c",
   "metadata": {},
   "outputs": [],
   "source": []
  }
 ],
 "metadata": {
  "kernelspec": {
   "display_name": "Python 3 (ipykernel)",
   "language": "python",
   "name": "python3"
  },
  "language_info": {
   "codemirror_mode": {
    "name": "ipython",
    "version": 3
   },
   "file_extension": ".py",
   "mimetype": "text/x-python",
   "name": "python",
   "nbconvert_exporter": "python",
   "pygments_lexer": "ipython3",
   "version": "3.9.13"
  }
 },
 "nbformat": 4,
 "nbformat_minor": 5
}
