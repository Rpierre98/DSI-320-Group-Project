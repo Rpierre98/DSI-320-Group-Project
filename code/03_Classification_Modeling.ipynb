{
 "cells": [
  {
   "cell_type": "markdown",
   "id": "946b253c-8fb5-4703-8eee-56795cbe700d",
   "metadata": {},
   "source": [
    "# Project 4: [Insert Project Title]\n",
    "## Classification Modeling"
   ]
  },
  {
   "cell_type": "code",
   "execution_count": null,
   "id": "b42057a4-dd2a-4065-a376-0fcc737fc19f",
   "metadata": {},
   "outputs": [],
   "source": []
  },
  {
   "cell_type": "code",
   "execution_count": null,
   "id": "6b74ec6f-61c6-4c1a-b409-7bf9dbfab74f",
   "metadata": {},
   "outputs": [],
   "source": []
  },
  {
   "cell_type": "code",
   "execution_count": null,
   "id": "ae204654-686a-4a6f-a9b4-41c2c9cfbeae",
   "metadata": {},
   "outputs": [],
   "source": []
  },
  {
   "cell_type": "code",
   "execution_count": null,
   "id": "26a0a0e9-6d77-4aec-9ffb-507bfdede705",
   "metadata": {},
   "outputs": [],
   "source": []
  },
  {
   "cell_type": "code",
   "execution_count": null,
   "id": "5a321dcc-5b43-4a53-8fbe-a8407d2b5626",
   "metadata": {},
   "outputs": [],
   "source": []
  }
 ],
 "metadata": {
  "kernelspec": {
   "display_name": "Python 3 (ipykernel)",
   "language": "python",
   "name": "python3"
  },
  "language_info": {
   "codemirror_mode": {
    "name": "ipython",
    "version": 3
   },
   "file_extension": ".py",
   "mimetype": "text/x-python",
   "name": "python",
   "nbconvert_exporter": "python",
   "pygments_lexer": "ipython3",
   "version": "3.10.11"
  }
 },
 "nbformat": 4,
 "nbformat_minor": 5
}
