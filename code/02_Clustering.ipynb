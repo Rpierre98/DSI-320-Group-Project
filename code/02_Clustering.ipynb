{
 "cells": [
  {
   "cell_type": "markdown",
   "id": "2124f956-e5cb-45a6-958d-d4cc26a9ceb5",
   "metadata": {},
   "source": [
    "# Project 4: [Insert Project Title]\n",
    "## Clustering"
   ]
  },
  {
   "cell_type": "code",
   "execution_count": null,
   "id": "712bec83-9c74-483f-8239-09ae6ee1df57",
   "metadata": {},
   "outputs": [],
   "source": []
  },
  {
   "cell_type": "code",
   "execution_count": null,
   "id": "09e2a49c-f0be-43eb-bd1b-b3870092ff80",
   "metadata": {},
   "outputs": [],
   "source": []
  },
  {
   "cell_type": "code",
   "execution_count": null,
   "id": "00540278-951e-41ac-a87d-f68bfdd59e9f",
   "metadata": {},
   "outputs": [],
   "source": []
  },
  {
   "cell_type": "code",
   "execution_count": null,
   "id": "450dceb5-fa7c-438e-89c5-21a4e468b8ef",
   "metadata": {},
   "outputs": [],
   "source": []
  },
  {
   "cell_type": "code",
   "execution_count": null,
   "id": "6128afa9-6eb2-4a94-a900-9b0ada58b5dd",
   "metadata": {},
   "outputs": [],
   "source": []
  },
  {
   "cell_type": "code",
   "execution_count": null,
   "id": "47b40bcb-8776-465c-b11f-3b8d252e6a8e",
   "metadata": {},
   "outputs": [],
   "source": []
  }
 ],
 "metadata": {
  "kernelspec": {
   "display_name": "Python 3 (ipykernel)",
   "language": "python",
   "name": "python3"
  },
  "language_info": {
   "codemirror_mode": {
    "name": "ipython",
    "version": 3
   },
   "file_extension": ".py",
   "mimetype": "text/x-python",
   "name": "python",
   "nbconvert_exporter": "python",
   "pygments_lexer": "ipython3",
   "version": "3.10.11"
  }
 },
 "nbformat": 4,
 "nbformat_minor": 5
}
